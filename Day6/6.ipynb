{
 "metadata": {
  "language_info": {
   "codemirror_mode": {
    "name": "ipython",
    "version": 3
   },
   "file_extension": ".py",
   "mimetype": "text/x-python",
   "name": "python",
   "nbconvert_exporter": "python",
   "pygments_lexer": "ipython3",
   "version": "3.8.3-final"
  },
  "orig_nbformat": 2,
  "kernelspec": {
   "name": "python3",
   "display_name": "Python 3"
  }
 },
 "nbformat": 4,
 "nbformat_minor": 2,
 "cells": [
  {
   "cell_type": "code",
   "execution_count": 3,
   "metadata": {},
   "outputs": [],
   "source": [
    "import numpy as np\n",
    "\n",
    "data = open(\"input.txt\")#, newline='\\n')\n",
    "out = [line for line in data]\n",
    "group = []\n",
    "temp = []\n",
    "for line in out:\n",
    "    if line =='\\n':\n",
    "        group.append(temp)\n",
    "        temp=[]\n",
    "    elif line == out[-1]:\n",
    "        temp.append(line.split('\\n')[0])\n",
    "        group.append(temp)\n",
    "    else:\n",
    "        temp.append(line.split('\\n')[0])"
   ]
  },
  {
   "cell_type": "code",
   "execution_count": 5,
   "metadata": {},
   "outputs": [
    {
     "output_type": "stream",
     "name": "stdout",
     "text": [
      "6612\n"
     ]
    }
   ],
   "source": [
    "uniques = []\n",
    "count = 0\n",
    "for grp in group:\n",
    "    combd = \"\".join(grp)\n",
    "    uniq = np.unique(list(combd))\n",
    "    uniques.append(uniq)\n",
    "    count+= len(uniq)\n",
    "print(count)"
   ]
  },
  {
   "cell_type": "code",
   "execution_count": 6,
   "metadata": {},
   "outputs": [],
   "source": [
    "### questions where everyone answered yes\n",
    "all_yes = []\n",
    "count2 = 0\n",
    "for grp in group:\n",
    "    # combd = \"\".join(grp)\n",
    "    # uniq = np.unique(list(combd))\n",
    "    # uniques.append(uniq)\n",
    "    # count+= len(uniq)\n",
    "    grp2 = [list(g) for g in grp]\n",
    "    uniq = list(set(grp2[0]).intersection(*grp2))\n",
    "    count2 += len(uniq)"
   ]
  }
 ]
}