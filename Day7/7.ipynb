{
 "metadata": {
  "language_info": {
   "codemirror_mode": {
    "name": "ipython",
    "version": 3
   },
   "file_extension": ".py",
   "mimetype": "text/x-python",
   "name": "python",
   "nbconvert_exporter": "python",
   "pygments_lexer": "ipython3",
   "version": "3.8.3-final"
  },
  "orig_nbformat": 2,
  "kernelspec": {
   "name": "python3",
   "display_name": "Python 3"
  }
 },
 "nbformat": 4,
 "nbformat_minor": 2,
 "cells": [
  {
   "cell_type": "code",
   "execution_count": 13,
   "metadata": {
    "tags": []
   },
   "outputs": [],
   "source": [
    "import numpy as np\n"
   ]
  },
  {
   "cell_type": "code",
   "execution_count": 46,
   "metadata": {
    "tags": []
   },
   "outputs": [
    {
     "output_type": "stream",
     "name": "stdout",
     "text": [
      "9 9 9\n"
     ]
    }
   ],
   "source": [
    "import os \n",
    "cwd = os.getcwd()\n",
    "file_loc = cwd + '\\\\test.txt'\n",
    "data = np.genfromtxt(file_loc,dtype=str,delimiter='\\n')\n",
    "bags = []\n",
    "nums = []\n",
    "sub_bags = []\n",
    "contain = []\n",
    "for d in data:\n",
    "    bags.append(d.split('bags')[0].rstrip())\n",
    "    # nums.append([int(n) for n in list(d) if n.isdigit()])\n",
    "    contain.append(d.split('contain')[1])\n",
    "    numtmp = []\n",
    "    sbbgtmp = []\n",
    "    temp_list = d.split('contain')[1].split(' ')\n",
    "    for i in range(len(temp_list)):\n",
    "        if temp_list[i].isdigit():\n",
    "            numtmp.append(int(temp_list[i]))\n",
    "            sbbgtmp.append(temp_list[i+1] + ' ' + temp_list[i+2])\n",
    "    nums.append(numtmp)\n",
    "    sub_bags.append(sbbgtmp)\n",
    "print(len(bags),len(nums),len(sub_bags))\n"
   ]
  },
  {
   "cell_type": "code",
   "execution_count": 56,
   "metadata": {},
   "outputs": [],
   "source": [
    "bag = 'bright white'#'shiny gold'\n",
    "# we only care about bag colours\n",
    "\n",
    "# big_list_of_all_bags = []\n",
    "# changinglist = []\n",
    "# for s in range(len(sub_bags)):\n",
    "#     if bag in sub_bags[s]:\n",
    "#         for sb in sub_bags[s]:\n",
    "#             if sb != bag:\n",
    "#                 big_list_of_all_bags.append(sb)\n",
    "#                 changinglist.append(sb)\n",
    "# while len(changinglist) > 0:\n",
    "#     indexes = \n",
    "#     # remove and index are list functions\n",
    "tree = []\n",
    "investiated = []\n",
    "for s in range(len(sub_bags)):\n",
    "    if bag in sub_bags[s]:\n",
    "        #tree.append(bags[s])\n",
    "        master = bags[s]\n",
    "\n",
    "def find_root(parent,childs,bag_name):\n",
    "    total = []\n",
    "    out = []\n",
    "    for c in range(len(childs)):\n",
    "        if bag in childs[c]:\n",
    "            out.append(parent[c])\n",
    "    out = numpy.unique(out)\n",
    "    find_root(parent,out,bag_name)\n",
    "    \n",
    "    return out \n",
    "        "
   ]
  }
 ]
}