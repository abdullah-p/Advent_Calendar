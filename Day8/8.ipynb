{
 "metadata": {
  "language_info": {
   "codemirror_mode": {
    "name": "ipython",
    "version": 3
   },
   "file_extension": ".py",
   "mimetype": "text/x-python",
   "name": "python",
   "nbconvert_exporter": "python",
   "pygments_lexer": "ipython3",
   "version": "3.8.3-final"
  },
  "orig_nbformat": 2,
  "kernelspec": {
   "name": "python3",
   "display_name": "Python 3"
  }
 },
 "nbformat": 4,
 "nbformat_minor": 2,
 "cells": [
  {
   "cell_type": "code",
   "execution_count": 2,
   "metadata": {},
   "outputs": [],
   "source": [
    "import numpy as np\n",
    "import os \n",
    "cwd = os.getcwd()\n",
    "file_loc = cwd + '\\\\input.txt'\n",
    "data = np.genfromtxt(file_loc,dtype=str,delimiter='\\n')"
   ]
  },
  {
   "cell_type": "code",
   "execution_count": 13,
   "metadata": {
    "tags": []
   },
   "outputs": [
    {
     "output_type": "stream",
     "name": "stdout",
     "text": [
      "0\n1\n2\n3\n4\n360\n496\n497\n498\n334\n335\n289\n479\n480\n165\n166\n167\n168\n81\n82\n83\n508\n509\n510\n643\n644\n645\n646\n647\n254\n255\n256\n257\n230\n231\n232\n233\n11\n12\n13\n157\n158\n159\n486\n487\n488\n355\n356\n357\n239\n240\n241\n242\n96\n8\n105\n106\n107\n108\n29\n30\n262\n263\n264\n265\n151\n421\n422\n423\n366\n328\n329\n330\n331\n332\n173\n454\n455\n34\n35\n36\n37\n38\n399\n400\n401\n572\n573\n574\n575\n576\n145\n146\n147\n148\n443\n444\n445\n520\n521\n522\n523\n524\n260\n581\n582\n583\n584\n585\n114\n391\n392\n393\n626\n627\n457\n458\n459\n98\n99\n100\n101\n539\n540\n541\n603\n604\n605\n283\n321\n322\n323\n324\n416\n79\n533\n534\n292\n293\n210\n211\n425\n194\n195\n201\n202\n203\n204\n130\n131\n132\n133\n405\n406\n620\n621\n622\n623\n624\n368\n369\n370\n566\n567\n568\n88\n89\n90\n91\n490\n491\n492\n411\n412\n413\n315\n316\n317\n318\n319\n611\n612\n613\n614\n122\n123\n124\n125\n126\n271\n374\n375\n376\n377\n473\n334\n1262\n"
     ]
    }
   ],
   "source": [
    "instruction = []\n",
    "number = []\n",
    "for d in data:\n",
    "    temp = d.split(' ')\n",
    "    instruction.append(temp[0])\n",
    "    number.append(int(temp[1]))\n",
    "index = 0\n",
    "accumulator = 0\n",
    "break_condition = 0\n",
    "visited = np.zeros_like(np.array(instruction), dtype=int)\n",
    "while break_condition < 1 :\n",
    "    print(index)\n",
    "    if instruction[index] == 'acc' and visited[index] == 0:\n",
    "        accumulator += number[index]\n",
    "        visited[index] = 1\n",
    "        index +=1\n",
    "    elif instruction[index] == 'jmp' and visited[index] == 0:\n",
    "        visited[index] = 1\n",
    "        index += number[index]\n",
    "    elif instruction[index] == 'nop' and visited[index] == 0:\n",
    "        visited[index] = 1\n",
    "        index += 1     \n",
    "    elif visited[index] ==1:\n",
    "        print(accumulator)\n",
    "        break_condition += 1"
   ]
  },
  {
   "cell_type": "code",
   "execution_count": null,
   "metadata": {},
   "outputs": [],
   "source": [
    "instruction = []\n",
    "number = []\n",
    "for d in data:\n",
    "    temp = d.split(' ')\n",
    "    instruction.append(temp[0])\n",
    "    number.append(int(temp[1]))\n",
    "index = 0\n",
    "accumulator = 0\n",
    "break_condition = 0\n",
    "visited = np.zeros_like(np.array(instruction), dtype=int)\n",
    "while break_condition < 1 :\n",
    "    print(index)\n",
    "    if instruction[index] == 'acc' and visited[index] == 0:\n",
    "        accumulator += number[index]\n",
    "        visited[index] = 1\n",
    "        index +=1\n",
    "    elif instruction[index] == 'jmp' and visited[index] == 0:\n",
    "        visited[index] = 1\n",
    "        index += number[index]\n",
    "    elif instruction[index] == 'nop' and visited[index] == 0:\n",
    "        visited[index] = 1\n",
    "        index += 1     \n",
    "    elif visited[index] ==1:\n",
    "        print(accumulator)\n",
    "        break_condition += 1"
   ]
  }
 ]
}