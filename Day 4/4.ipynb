{
 "metadata": {
  "language_info": {
   "codemirror_mode": {
    "name": "ipython",
    "version": 3
   },
   "file_extension": ".py",
   "mimetype": "text/x-python",
   "name": "python",
   "nbconvert_exporter": "python",
   "pygments_lexer": "ipython3",
   "version": "3.8.3-final"
  },
  "orig_nbformat": 2,
  "kernelspec": {
   "name": "python3",
   "display_name": "Python 3"
  }
 },
 "nbformat": 4,
 "nbformat_minor": 2,
 "cells": [
  {
   "cell_type": "code",
   "execution_count": 47,
   "metadata": {
    "tags": []
   },
   "outputs": [
    {
     "output_type": "stream",
     "name": "stdout",
     "text": [
      "caught\ncaught\ncaught\n[{'ecl': 'gry', 'pid': '860033327', 'eyr': '2020', 'hcl': '#fffffd', 'byr': '1937', 'iyr': '2017', 'cid': '147', 'hgt': '183cm'}, {'iyr': '2013', 'ecl': 'amb', 'cid': '350', 'eyr': '2023', 'pid': '028048884', 'hcl': '#cfa07d', 'byr': '1929'}, {'hcl': '#ae17e1', 'iyr': '2013', 'eyr': '2024', 'ecl': 'brn', 'pid': '760753108', 'byr': '1931', 'hgt': '179cm'}]\n"
     ]
    }
   ],
   "source": [
    "import numpy as np\n",
    "\n",
    "# d = []\n",
    "# tmp_dict = {}\n",
    "# with open(\"test.txt\") as f:\n",
    "#     for line in f:\n",
    "#         if line == '\\n':\n",
    "#             d.append(tmp_dict)\n",
    "#             tmp_dict = {}\n",
    "#             print('caught')\n",
    "#             pass\n",
    "#         else:\n",
    "#             # print(line)\n",
    "#             items = line.split(' ')\n",
    "#             items = [item.rstrip() for item in items]\n",
    "#             for i in items:\n",
    "#                 # print(i,'fill')\n",
    "#                 (key, val) = i.split(':')\n",
    "#                 tmp_dict[key] = val\n",
    "        \n",
    "# print(d)"
   ]
  },
  {
   "cell_type": "code",
   "execution_count": 72,
   "metadata": {
    "tags": []
   },
   "outputs": [
    {
     "output_type": "stream",
     "name": "stdout",
     "text": [
      "ecl:gry pid:860033327 eyr:2020 hcl:#fffffd\n hello\nbyr:1937 iyr:2017 cid:147 hgt:183cm\n hello\n\n hello\niyr:2013 ecl:amb cid:350 eyr:2023 pid:028048884\n hello\nhcl:#cfa07d byr:1929\n hello\n\n hello\nhcl:#ae17e1 iyr:2013\n hello\neyr:2024\n hello\necl:brn pid:760753108 byr:1931\n hello\nhgt:179cm\n hello\n\n hello\nhcl:#cfa07d eyr:2025 pid:166559648\n hello\niyr:2011 ecl:brn hgt:59in\n hello\n"
     ]
    }
   ],
   "source": [
    "# with open(\"test.txt\") as f:\n",
    "#     for line in f:\n",
    "data = open(\"test.txt\")#, newline='\\n')\n",
    "out = [line for line in data]\n",
    "d = []\n",
    "tmp = {}\n",
    "for o in out:\n",
    "    print(o, 'hello')\n",
    "    if o == '\\n':\n",
    "        d.append(tmp)\n",
    "        tmp = {}\n",
    "        pass\n",
    "    else:\n",
    "        items = o.split(' ')\n",
    "        items = [item.rstrip() for item in items]\n",
    "        for i in items:\n",
    "            # print(i,'fill')\n",
    "            (key, val) = i.split(':')\n",
    "            tmp[key] = val\n",
    "        if o == out[-1]:\n",
    "            d.append(tmp)"
   ]
  },
  {
   "cell_type": "code",
   "execution_count": 73,
   "metadata": {},
   "outputs": [],
   "source": [
    "def test(test_dict):\n",
    "    if ('byr' in test_dict.keys() and 'iyr' in test_dict.keys() and'eyr' in test_dict.keys() and'hgt' in test_dict.keys() and'hcl' in test_dict.keys() and'ecl' in test_dict.keys() and 'pid' in test_dict.keys()):\n",
    "        return True\n",
    "    else:\n",
    "        return False"
   ]
  },
  {
   "cell_type": "code",
   "execution_count": 74,
   "metadata": {},
   "outputs": [],
   "source": [
    "results = []\n",
    "for dicts in d:\n",
    "    if test(dicts):\n",
    "        results.append(1)\n",
    "    else:\n",
    "        results.append(0)"
   ]
  },
  {
   "cell_type": "code",
   "execution_count": 49,
   "metadata": {},
   "outputs": [
    {
     "output_type": "stream",
     "name": "stdout",
     "text": [
      "[1, 0, 1]\n{'ecl': 'gry', 'pid': '860033327', 'eyr': '2020', 'hcl': '#fffffd', 'byr': '1937', 'iyr': '2017', 'cid': '147', 'hgt': '183cm'} \n\n{'iyr': '2013', 'ecl': 'amb', 'cid': '350', 'eyr': '2023', 'pid': '028048884', 'hcl': '#cfa07d', 'byr': '1929'} \n\n{'hcl': '#ae17e1', 'iyr': '2013', 'eyr': '2024', 'ecl': 'brn', 'pid': '760753108', 'byr': '1931', 'hgt': '179cm'} \n\n"
     ]
    }
   ],
   "source": [
    "print(results)\n",
    "for dicts in d:\n",
    "    print(dicts, '\\n')"
   ]
  }
 ]
}